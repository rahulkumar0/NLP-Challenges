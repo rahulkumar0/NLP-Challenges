{
 "cells": [
  {
   "cell_type": "code",
   "execution_count": null,
   "metadata": {},
   "outputs": [],
   "source": [
    "N = int(input())\n",
    "\n",
    "names = [input() for i in range(N)]\n",
    "word_list = []"
   ]
  },
  {
   "cell_type": "code",
   "execution_count": null,
   "metadata": {},
   "outputs": [],
   "source": [
    "inputfile = \"corpus.txt\"\n",
    "f = open(inputfile, encoding=\"utf8\")"
   ]
  },
  {
   "cell_type": "code",
   "execution_count": null,
   "metadata": {},
   "outputs": [],
   "source": [
    "for line in f:\n",
    "    word_list+=line.split()"
   ]
  },
  {
   "cell_type": "code",
   "execution_count": null,
   "metadata": {},
   "outputs": [],
   "source": [
    "gender = {}"
   ]
  },
  {
   "cell_type": "code",
   "execution_count": null,
   "metadata": {},
   "outputs": [],
   "source": [
    "for i in names:\n",
    "    gender[i]=-1"
   ]
  },
  {
   "cell_type": "code",
   "execution_count": null,
   "metadata": {},
   "outputs": [],
   "source": [
    "for i in range(len(word_list)):\n",
    "    if word_list[i] in names and gender[word_list[i]]==-1:\n",
    "        word = word_list[i]\n",
    "        if word_list[i-1]==\"Mr\":\n",
    "            gender[word]=1\n",
    "        elif word_list[i-1]==\"Mrs\" or word_list[i-1] == \"Miss\":\n",
    "            gender[word]=0\n",
    "        else:\n",
    "            a=word_list[i:i+25] \n",
    "            if any(True for u in a if u in (\"He\",\"he\",\"him\")):\n",
    "                gender[word]=1\n",
    "            elif any(True for u in a if u in (\"She\",\"she\",\"her\")):\n",
    "                gender[word]=0"
   ]
  },
  {
   "cell_type": "code",
   "execution_count": null,
   "metadata": {},
   "outputs": [],
   "source": [
    "for name in names:\n",
    "    if gender[name]==1:\n",
    "        print(\"Male\")\n",
    "    else:\n",
    "        print(\"Female\")"
   ]
  }
 ],
 "metadata": {
  "kernelspec": {
   "display_name": "Python 3",
   "language": "python",
   "name": "python3"
  },
  "language_info": {
   "codemirror_mode": {
    "name": "ipython",
    "version": 3
   },
   "file_extension": ".py",
   "mimetype": "text/x-python",
   "name": "python",
   "nbconvert_exporter": "python",
   "pygments_lexer": "ipython3",
   "version": "3.5.5"
  }
 },
 "nbformat": 4,
 "nbformat_minor": 2
}
