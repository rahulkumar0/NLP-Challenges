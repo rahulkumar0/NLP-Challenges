{
  "nbformat": 4,
  "nbformat_minor": 0,
  "metadata": {
    "colab": {
      "name": "Prob2.ipynb",
      "version": "0.3.2",
      "provenance": [],
      "collapsed_sections": []
    },
    "kernelspec": {
      "name": "python3",
      "display_name": "Python 3"
    }
  },
  "cells": [
    {
      "metadata": {
        "id": "EpQV3kOtfM6N",
        "colab_type": "code",
        "colab": {}
      },
      "cell_type": "code",
      "source": [
        "target = ['am','are','were','was','is','been','being','be']\n",
        "N = int(input())\n",
        "text = input().lower()\n",
        "text = text.replace(\".\", \"\")\n",
        "text = text.replace(\",\", \"\")\n",
        "wordlist = text.split(\" \")\n",
        "n = 0"
      ],
      "execution_count": 0,
      "outputs": []
    },
    {
      "metadata": {
        "id": "HZqmtfsFfrtK",
        "colab_type": "code",
        "colab": {}
      },
      "cell_type": "code",
      "source": [
        "for i in range(len(wordlist)):  \n",
        "    if wordlist[i] == \"----\":\n",
        "        n = n+1\n",
        "        if n>N: break\n",
        "        if wordlist[i-1] in ['i'] : print(\"am\")\n",
        "        elif wordlist[i-1] in [\"can't\", \"can\",\"could\",\"couldn't\",\"may\",\"won't\" \"not\", \"might\", 'would', \"will\",\"shall\",\"should\",\"shouldn't\"]: print(\"be\")\n",
        "        elif wordlist[i-1] in [\"had\",\"has\", \"have\"] : print(\"been\")\n",
        "        elif wordlist[i-1] in [\"is\",\"are\",\"was\",\"were\"] : print(\"being\")\n",
        "        elif wordlist[i+1][-2:]==\"ed\":\n",
        "            if(wordlist[i-1][-1]=='s'): print(\"were\")\n",
        "            else: print(\"was\")\n",
        "        elif wordlist[i+1][-3:]==\"ing\":\n",
        "            a = wordlist[i-5:i]\n",
        "            if any(True for u in a if u[-2:]==\"ed\"):\n",
        "                if wordlist[i-1][-1]=='s':print(\"were\")\n",
        "                else:print(\"was\")\n",
        "            else:\n",
        "                if wordlist[i-1][-1]=='s':print(\"are\")\n",
        "                else:print(\"is\")\n",
        "                \n",
        "        else:print(\"is\")"
      ],
      "execution_count": 0,
      "outputs": []
    }
  ]
}