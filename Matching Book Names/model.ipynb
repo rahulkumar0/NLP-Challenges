{
 "cells": [
  {
   "cell_type": "code",
   "execution_count": null,
   "metadata": {},
   "outputs": [],
   "source": [
    "import re\n",
    "import numpy as np\n",
    "from sklearn.feature_extraction.text import TfidfVectorizer\n",
    "from sklearn.metrics.pairwise import cosine_similarity"
   ]
  },
  {
   "cell_type": "code",
   "execution_count": null,
   "metadata": {},
   "outputs": [],
   "source": [
    "def process_corpus(sen_list):\n",
    "    corpus = []\n",
    "    for sen in sen_list:\n",
    "        sen = sen.lower()\n",
    "        sen = re.sub(r\"[^a-zA-Z0-9]+\", \" \", sen)\n",
    "        sen = sen.strip()\n",
    "        corpus.append(sen)\n",
    "    return corpus"
   ]
  },
  {
   "cell_type": "code",
   "execution_count": null,
   "metadata": {},
   "outputs": [],
   "source": [
    "N = int(input())"
   ]
  },
  {
   "cell_type": "code",
   "execution_count": null,
   "metadata": {},
   "outputs": [],
   "source": [
    "titles = []\n",
    "desc = []\n",
    "\n",
    "for i in range(N):\n",
    "    titles.append(input())\n",
    "input() #for sepeartor\n",
    "for i in range(N):\n",
    "    desc.append(input())"
   ]
  },
  {
   "cell_type": "code",
   "execution_count": null,
   "metadata": {},
   "outputs": [],
   "source": [
    "corpus = process_corpus(titles + desc)"
   ]
  },
  {
   "cell_type": "code",
   "execution_count": null,
   "metadata": {},
   "outputs": [],
   "source": [
    "tfidf_dist = TfidfVectorizer(max_df=0.3, norm ='l2', stop_words='english')\n",
    "vec_matrix  = tfidf_dist.fit_transform(corpus)"
   ]
  },
  {
   "cell_type": "code",
   "execution_count": null,
   "metadata": {},
   "outputs": [],
   "source": [
    "for r in vec_matrix[N:, :]:\n",
    "    q = cosine_similarity(r, vec_matrix[0:N, :])\n",
    "    best_matching_title = np.argmax(q) + 1\n",
    "    print(best_matching_title)"
   ]
  }
 ],
 "metadata": {
  "kernelspec": {
   "display_name": "Python 3",
   "language": "python",
   "name": "python3"
  },
  "language_info": {
   "codemirror_mode": {
    "name": "ipython",
    "version": 3
   },
   "file_extension": ".py",
   "mimetype": "text/x-python",
   "name": "python",
   "nbconvert_exporter": "python",
   "pygments_lexer": "ipython3",
   "version": "3.5.5"
  }
 },
 "nbformat": 4,
 "nbformat_minor": 2
}
